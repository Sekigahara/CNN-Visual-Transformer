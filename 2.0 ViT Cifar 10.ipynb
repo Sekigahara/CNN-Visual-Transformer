{
 "cells": [
  {
   "cell_type": "code",
   "execution_count": 1,
   "id": "d7abfab5-0254-41b3-b7f6-ebdf4ab6c1c0",
   "metadata": {},
   "outputs": [
    {
     "name": "stderr",
     "output_type": "stream",
     "text": [
      "2024-06-10 19:26:40.756674: I tensorflow/core/platform/cpu_feature_guard.cc:210] This TensorFlow binary is optimized to use available CPU instructions in performance-critical operations.\n",
      "To enable the following instructions: AVX2 FMA, in other operations, rebuild TensorFlow with the appropriate compiler flags.\n",
      "2024-06-10 19:26:41.294780: W tensorflow/compiler/tf2tensorrt/utils/py_utils.cc:38] TF-TRT Warning: Could not find TensorRT\n"
     ]
    },
    {
     "name": "stdout",
     "output_type": "stream",
     "text": [
      "2.16.1\n"
     ]
    },
    {
     "name": "stderr",
     "output_type": "stream",
     "text": [
      "2024-06-10 19:26:41.945420: I external/local_xla/xla/stream_executor/cuda/cuda_executor.cc:984] could not open file to read NUMA node: /sys/bus/pci/devices/0000:01:00.0/numa_node\n",
      "Your kernel may have been built without NUMA support.\n",
      "2024-06-10 19:26:41.973025: I external/local_xla/xla/stream_executor/cuda/cuda_executor.cc:984] could not open file to read NUMA node: /sys/bus/pci/devices/0000:01:00.0/numa_node\n",
      "Your kernel may have been built without NUMA support.\n",
      "2024-06-10 19:26:41.973072: I external/local_xla/xla/stream_executor/cuda/cuda_executor.cc:984] could not open file to read NUMA node: /sys/bus/pci/devices/0000:01:00.0/numa_node\n",
      "Your kernel may have been built without NUMA support.\n"
     ]
    },
    {
     "data": {
      "text/plain": [
       "[PhysicalDevice(name='/physical_device:GPU:0', device_type='GPU')]"
      ]
     },
     "execution_count": 1,
     "metadata": {},
     "output_type": "execute_result"
    }
   ],
   "source": [
    "import tensorflow as tf\n",
    "print(tf.__version__)\n",
    "\n",
    "tf.config.list_physical_devices('GPU')"
   ]
  },
  {
   "cell_type": "code",
   "execution_count": 2,
   "id": "32700357-4981-41bc-a57b-08d7ac74af5d",
   "metadata": {},
   "outputs": [],
   "source": [
    "# Load cifar dataset\n",
    "(x_train, y_train), (x_test, y_test) = tf.keras.datasets.cifar10.load_data()"
   ]
  },
  {
   "cell_type": "code",
   "execution_count": 3,
   "id": "13bfee30-751d-401c-92ef-c3fde5e51e6d",
   "metadata": {},
   "outputs": [],
   "source": [
    "# Normalization\n",
    "#x_train, x_test = x_train / 255.0, x_test / 255.0"
   ]
  },
  {
   "cell_type": "code",
   "execution_count": 4,
   "id": "b8ad31da-4dce-444d-8265-257cdc523ba5",
   "metadata": {},
   "outputs": [],
   "source": [
    "# Convert the label into the categorical crossentropy\n",
    "\n",
    "y_train_categorical = tf.keras.utils.to_categorical(y_train, num_classes=10)\n",
    "y_test_categorical = tf.keras.utils.to_categorical(y_test, num_classes=10)"
   ]
  },
  {
   "cell_type": "code",
   "execution_count": 5,
   "id": "bea496c7-dcca-4ad6-b05e-5bffc000674d",
   "metadata": {},
   "outputs": [
    {
     "data": {
      "text/plain": [
       "(50000, 32, 32, 3)"
      ]
     },
     "execution_count": 5,
     "metadata": {},
     "output_type": "execute_result"
    }
   ],
   "source": [
    "x_train.shape"
   ]
  },
  {
   "cell_type": "code",
   "execution_count": 6,
   "id": "60632886-6dd3-4b59-b399-d0e2ef9a68e0",
   "metadata": {},
   "outputs": [],
   "source": [
    "num_classes = 50\n",
    "input_shape = (32, 32, 3)\n",
    "\n",
    "# ViT Base\n",
    "learning_rate = 0.001\n",
    "weight_decay = 0.0001\n",
    "batch_size = 32\n",
    "num_epochs = 10  # For real training, use num_epochs=100. 10 is a test value\n",
    "image_size = 72  # We'll resize input images to this size\n",
    "patch_size = 6  # Size of the patches to be extract from the input images\n",
    "num_patches = (image_size // patch_size) ** 2\n",
    "projection_dim = 64\n",
    "num_heads = 12\n",
    "transformer_units = [\n",
    "    projection_dim * 2,\n",
    "    projection_dim,\n",
    "]  # Size of the transformer layers\n",
    "transformer_layers = 12\n",
    "mlp_head_units = [\n",
    "    3072,\n",
    "]"
   ]
  },
  {
   "cell_type": "code",
   "execution_count": 7,
   "id": "9792c9b4-360e-436d-9b41-0b88ede9ba74",
   "metadata": {},
   "outputs": [],
   "source": [
    "from modules.vision_transformers.patches import Patches\n",
    "from modules.vision_transformers.patch_encoder import PatchEncoder, mlp"
   ]
  },
  {
   "cell_type": "code",
   "execution_count": 8,
   "id": "770db177-7ca9-437c-8f72-13a802aa9cea",
   "metadata": {},
   "outputs": [
    {
     "name": "stderr",
     "output_type": "stream",
     "text": [
      "2024-06-10 19:26:42.497183: I external/local_xla/xla/stream_executor/cuda/cuda_executor.cc:984] could not open file to read NUMA node: /sys/bus/pci/devices/0000:01:00.0/numa_node\n",
      "Your kernel may have been built without NUMA support.\n",
      "2024-06-10 19:26:42.497280: I external/local_xla/xla/stream_executor/cuda/cuda_executor.cc:984] could not open file to read NUMA node: /sys/bus/pci/devices/0000:01:00.0/numa_node\n",
      "Your kernel may have been built without NUMA support.\n",
      "2024-06-10 19:26:42.497309: I external/local_xla/xla/stream_executor/cuda/cuda_executor.cc:984] could not open file to read NUMA node: /sys/bus/pci/devices/0000:01:00.0/numa_node\n",
      "Your kernel may have been built without NUMA support.\n",
      "2024-06-10 19:26:43.330726: I external/local_xla/xla/stream_executor/cuda/cuda_executor.cc:984] could not open file to read NUMA node: /sys/bus/pci/devices/0000:01:00.0/numa_node\n",
      "Your kernel may have been built without NUMA support.\n",
      "2024-06-10 19:26:43.330787: I external/local_xla/xla/stream_executor/cuda/cuda_executor.cc:984] could not open file to read NUMA node: /sys/bus/pci/devices/0000:01:00.0/numa_node\n",
      "Your kernel may have been built without NUMA support.\n",
      "2024-06-10 19:26:43.330797: I tensorflow/core/common_runtime/gpu/gpu_device.cc:2019] Could not identify NUMA node of platform GPU id 0, defaulting to 0.  Your kernel may not have been built with NUMA support.\n",
      "2024-06-10 19:26:43.330830: I external/local_xla/xla/stream_executor/cuda/cuda_executor.cc:984] could not open file to read NUMA node: /sys/bus/pci/devices/0000:01:00.0/numa_node\n",
      "Your kernel may have been built without NUMA support.\n",
      "2024-06-10 19:26:43.330850: I tensorflow/core/common_runtime/gpu/gpu_device.cc:1928] Created device /job:localhost/replica:0/task:0/device:GPU:0 with 9298 MB memory:  -> device: 0, name: NVIDIA GeForce RTX 3080 Ti, pci bus id: 0000:01:00.0, compute capability: 8.6\n"
     ]
    }
   ],
   "source": [
    "# Data Augmentation for resize\n",
    "data_augmentation = tf.keras.Sequential([\n",
    "    tf.keras.layers.Normalization(),\n",
    "    tf.keras.layers.Resizing(image_size, image_size)\n",
    "])\n",
    "\n",
    "# Compute the average and variance of the training data for normalization purpose\n",
    "data_augmentation.layers[0].adapt(x_train)"
   ]
  },
  {
   "cell_type": "code",
   "execution_count": 9,
   "id": "52fd947f-71f5-4762-bdeb-b98e05244c89",
   "metadata": {},
   "outputs": [],
   "source": [
    "# Define the model\n",
    "def create_classifier():\n",
    "    inputs = tf.keras.Input(shape=input_shape)\n",
    "\n",
    "    # Apply augment resize\n",
    "    augmented = data_augmentation(inputs)\n",
    "    \n",
    "    # Create Patches\n",
    "    patches = Patches(patch_size)(augmented)\n",
    "\n",
    "    # Encode every patches position\n",
    "    encoded_patches = PatchEncoder(num_patches, projection_dim)(patches)\n",
    "\n",
    "    for _ in range(transformer_layers):\n",
    "        # Create multilayers about how many transformers layer needed\n",
    "        x1 = tf.keras.layers.LayerNormalization(epsilon=1e-6)(encoded_patches)\n",
    "    \n",
    "        # Create a multi-head attention layer\n",
    "        attention_output = tf.keras.layers.MultiHeadAttention(\n",
    "            num_heads=num_heads, key_dim=projection_dim, dropout=0.1\n",
    "        )(x1, x1)\n",
    "\n",
    "        # Skip connection 1\n",
    "        x2 = tf.keras.layers.Add()([attention_output, encoded_patches])\n",
    "\n",
    "        # layer normalization 2\n",
    "        x3 = tf.keras.layers.LayerNormalization(epsilon=1e-6)(x2)\n",
    "\n",
    "        # NLP\n",
    "        x3 = mlp(x3, hidden_units=transformer_units, dropout_rate=0.1)\n",
    "\n",
    "        # Skip Connection\n",
    "        encoded_patches = tf.keras.layers.Add()([x3, x2])\n",
    "\n",
    "    # Create a [batch_size, projection_dim] tensor.\n",
    "    representation = tf.keras.layers.LayerNormalization(epsilon=1e-6)(encoded_patches)\n",
    "    representation = tf.keras.layers.Flatten()(representation)\n",
    "    representation = tf.keras.layers.Dropout(0.3)(representation)\n",
    "    # Add MLP.\n",
    "    features = mlp(representation, hidden_units=mlp_head_units, dropout_rate=0.3)\n",
    "    # Classify outputs.\n",
    "    logits = tf.keras.layers.Dense(num_classes)(features)\n",
    "    # Create the Keras model.\n",
    "    model = tf.keras.Model(inputs=inputs, outputs=logits)\n",
    "    return model"
   ]
  },
  {
   "cell_type": "code",
   "execution_count": 10,
   "id": "b227c8d3-bfff-4cb6-9d79-7401f5902167",
   "metadata": {
    "scrolled": true
   },
   "outputs": [],
   "source": [
    "model = create_classifier()"
   ]
  },
  {
   "cell_type": "code",
   "execution_count": 12,
   "id": "1e8cf58b-c65b-4323-9cfe-f02a1d881346",
   "metadata": {},
   "outputs": [],
   "source": [
    "total_steps = len(x_train) * num_epochs\n",
    "decay_steps = total_steps * 0.3\n",
    "# Cosine Learning Rate Decay\n",
    "cosine_decay_scheduler = tf.keras.optimizers.schedules.CosineDecay(\n",
    "    initial_learning_rate=learning_rate,\n",
    "    decay_steps=decay_steps,\n",
    "    alpha=0.1,\n",
    "    warmup_steps=10000\n",
    ")"
   ]
  },
  {
   "cell_type": "code",
   "execution_count": 13,
   "id": "257de0c1-66f8-4333-b6cd-84aee4c6879b",
   "metadata": {},
   "outputs": [],
   "source": [
    "# Compile the model\n",
    "model.compile(\n",
    "    optimizer=tf.keras.optimizers.AdamW(learning_rate=cosine_decay_scheduler),\n",
    "    loss=tf.keras.losses.CategoricalCrossentropy(from_logits=True),\n",
    "    metrics=[\n",
    "        tf.keras.metrics.CategoricalAccuracy(name='accuracy'),\n",
    "        tf.keras.metrics.TopKCategoricalAccuracy(5, name='top-5-accuracy')\n",
    "    ]\n",
    ")"
   ]
  },
  {
   "cell_type": "code",
   "execution_count": 14,
   "id": "0e936761-77ff-499d-9d30-224d11972b1f",
   "metadata": {
    "scrolled": true
   },
   "outputs": [
    {
     "name": "stdout",
     "output_type": "stream",
     "text": [
      "Epoch 1/10\n"
     ]
    },
    {
     "name": "stderr",
     "output_type": "stream",
     "text": [
      "WARNING: All log messages before absl::InitializeLog() is called are written to STDERR\n",
      "I0000 00:00:1718015249.680735  364230 service.cc:145] XLA service 0x7f409c002d50 initialized for platform CUDA (this does not guarantee that XLA will be used). Devices:\n",
      "I0000 00:00:1718015249.680777  364230 service.cc:153]   StreamExecutor device (0): NVIDIA GeForce RTX 3080 Ti, Compute Capability 8.6\n",
      "2024-06-10 19:27:30.566078: I tensorflow/compiler/mlir/tensorflow/utils/dump_mlir_util.cc:268] disabling MLIR crash reproducer, set env var `MLIR_CRASH_REPRODUCER_DIRECTORY` to enable.\n",
      "2024-06-10 19:27:34.546010: I external/local_xla/xla/stream_executor/cuda/cuda_dnn.cc:465] Loaded cuDNN version 8906\n",
      "WARNING: All log messages before absl::InitializeLog() is called are written to STDERR\n",
      "I0000 00:00:1718015282.374945  364288 asm_compiler.cc:369] ptxas warning : Registers are spilled to local memory in function 'triton_gemm_dot_503', 12 bytes spill stores, 12 bytes spill loads\n",
      "\n",
      "I0000 00:00:1718015282.766621  364296 asm_compiler.cc:369] ptxas warning : Registers are spilled to local memory in function 'triton_gemm_dot_600', 304 bytes spill stores, 292 bytes spill loads\n",
      "\n",
      "I0000 00:00:1718015283.580305  364298 asm_compiler.cc:369] ptxas warning : Registers are spilled to local memory in function 'triton_gemm_dot_503', 4 bytes spill stores, 4 bytes spill loads\n",
      "\n",
      "I0000 00:00:1718015283.758097  364282 asm_compiler.cc:369] ptxas warning : Registers are spilled to local memory in function 'triton_gemm_dot_600', 1732 bytes spill stores, 1720 bytes spill loads\n",
      "\n",
      "I0000 00:00:1718015284.643588  364288 asm_compiler.cc:369] ptxas warning : Registers are spilled to local memory in function 'triton_gemm_dot_599', 16 bytes spill stores, 16 bytes spill loads\n",
      "\n",
      "I0000 00:00:1718015284.847882  364286 asm_compiler.cc:369] ptxas warning : Registers are spilled to local memory in function 'triton_gemm_dot_2', 8 bytes spill stores, 8 bytes spill loads\n",
      "\n",
      "I0000 00:00:1718015285.034532  364289 asm_compiler.cc:369] ptxas warning : Registers are spilled to local memory in function 'triton_gemm_dot_599', 296 bytes spill stores, 296 bytes spill loads\n",
      "\n",
      "I0000 00:00:1718015319.022684  364230 asm_compiler.cc:369] ptxas warning : Registers are spilled to local memory in function 'loop_add_subtract_fusion_29', 16 bytes spill stores, 16 bytes spill loads\n",
      "\n",
      "I0000 00:00:1718015319.086620  364230 device_compiler.h:188] Compiled cluster using XLA!  This line is logged at most once for the lifetime of the process.\n"
     ]
    },
    {
     "name": "stdout",
     "output_type": "stream",
     "text": [
      "\u001b[1m1561/1563\u001b[0m \u001b[32m━━━━━━━━━━━━━━━━━━━\u001b[0m\u001b[37m━\u001b[0m \u001b[1m0s\u001b[0m 34ms/step - accuracy: 0.3020 - loss: 2.5463 - top-5-accuracy: 0.7915"
     ]
    },
    {
     "name": "stderr",
     "output_type": "stream",
     "text": [
      "I0000 00:00:1718015406.254109  364489 asm_compiler.cc:369] ptxas warning : Registers are spilled to local memory in function 'triton_gemm_dot_503', 4 bytes spill stores, 4 bytes spill loads\n",
      "\n",
      "I0000 00:00:1718015435.480253  364230 asm_compiler.cc:369] ptxas warning : Registers are spilled to local memory in function 'copy_fusion', 36 bytes spill stores, 36 bytes spill loads\n",
      "\n"
     ]
    },
    {
     "name": "stdout",
     "output_type": "stream",
     "text": [
      "\u001b[1m1563/1563\u001b[0m \u001b[32m━━━━━━━━━━━━━━━━━━━━\u001b[0m\u001b[37m\u001b[0m \u001b[1m0s\u001b[0m 75ms/step - accuracy: 0.3021 - loss: 2.5454 - top-5-accuracy: 0.7916"
     ]
    },
    {
     "name": "stderr",
     "output_type": "stream",
     "text": [
      "I0000 00:00:1718015438.002338  364611 asm_compiler.cc:369] ptxas warning : Registers are spilled to local memory in function 'triton_gemm_dot_163', 8 bytes spill stores, 8 bytes spill loads\n",
      "\n",
      "I0000 00:00:1718015438.175845  364603 asm_compiler.cc:369] ptxas warning : Registers are spilled to local memory in function 'triton_gemm_dot_163', 436 bytes spill stores, 380 bytes spill loads\n",
      "\n",
      "I0000 00:00:1718015438.520112  364601 asm_compiler.cc:369] ptxas warning : Registers are spilled to local memory in function 'triton_gemm_dot_163', 1156 bytes spill stores, 1144 bytes spill loads\n",
      "\n"
     ]
    },
    {
     "name": "stdout",
     "output_type": "stream",
     "text": [
      "\u001b[1m1563/1563\u001b[0m \u001b[32m━━━━━━━━━━━━━━━━━━━━\u001b[0m\u001b[37m\u001b[0m \u001b[1m218s\u001b[0m 80ms/step - accuracy: 0.3022 - loss: 2.5450 - top-5-accuracy: 0.7916 - val_accuracy: 0.4806 - val_loss: 1.4286 - val_top-5-accuracy: 0.9227\n",
      "Epoch 2/10\n",
      "\u001b[1m1563/1563\u001b[0m \u001b[32m━━━━━━━━━━━━━━━━━━━━\u001b[0m\u001b[37m\u001b[0m \u001b[1m57s\u001b[0m 36ms/step - accuracy: 0.4645 - loss: 1.4913 - top-5-accuracy: 0.9099 - val_accuracy: 0.4968 - val_loss: 1.3905 - val_top-5-accuracy: 0.9249\n",
      "Epoch 3/10\n",
      "\u001b[1m1563/1563\u001b[0m \u001b[32m━━━━━━━━━━━━━━━━━━━━\u001b[0m\u001b[37m\u001b[0m \u001b[1m58s\u001b[0m 37ms/step - accuracy: 0.4593 - loss: 1.5166 - top-5-accuracy: 0.9049 - val_accuracy: 0.4907 - val_loss: 1.4364 - val_top-5-accuracy: 0.9197\n",
      "Epoch 4/10\n",
      "\u001b[1m1563/1563\u001b[0m \u001b[32m━━━━━━━━━━━━━━━━━━━━\u001b[0m\u001b[37m\u001b[0m \u001b[1m64s\u001b[0m 41ms/step - accuracy: 0.4305 - loss: 1.5997 - top-5-accuracy: 0.8919 - val_accuracy: 0.4528 - val_loss: 1.5318 - val_top-5-accuracy: 0.9033\n",
      "Epoch 5/10\n",
      "\u001b[1m1563/1563\u001b[0m \u001b[32m━━━━━━━━━━━━━━━━━━━━\u001b[0m\u001b[37m\u001b[0m \u001b[1m72s\u001b[0m 46ms/step - accuracy: 0.4248 - loss: 1.6250 - top-5-accuracy: 0.8902 - val_accuracy: 0.4540 - val_loss: 1.5401 - val_top-5-accuracy: 0.9079\n",
      "Epoch 6/10\n",
      "\u001b[1m1563/1563\u001b[0m \u001b[32m━━━━━━━━━━━━━━━━━━━━\u001b[0m\u001b[37m\u001b[0m \u001b[1m61s\u001b[0m 39ms/step - accuracy: 0.4469 - loss: 1.5435 - top-5-accuracy: 0.9039 - val_accuracy: 0.5102 - val_loss: 1.3695 - val_top-5-accuracy: 0.9294\n",
      "Epoch 7/10\n",
      "\u001b[1m1563/1563\u001b[0m \u001b[32m━━━━━━━━━━━━━━━━━━━━\u001b[0m\u001b[37m\u001b[0m \u001b[1m58s\u001b[0m 37ms/step - accuracy: 0.5122 - loss: 1.3701 - top-5-accuracy: 0.9292 - val_accuracy: 0.5404 - val_loss: 1.2932 - val_top-5-accuracy: 0.9409\n",
      "Epoch 8/10\n",
      "\u001b[1m1563/1563\u001b[0m \u001b[32m━━━━━━━━━━━━━━━━━━━━\u001b[0m\u001b[37m\u001b[0m \u001b[1m57s\u001b[0m 37ms/step - accuracy: 0.5687 - loss: 1.2116 - top-5-accuracy: 0.9497 - val_accuracy: 0.5842 - val_loss: 1.1794 - val_top-5-accuracy: 0.9495\n",
      "Epoch 9/10\n",
      "\u001b[1m1563/1563\u001b[0m \u001b[32m━━━━━━━━━━━━━━━━━━━━\u001b[0m\u001b[37m\u001b[0m \u001b[1m57s\u001b[0m 37ms/step - accuracy: 0.6343 - loss: 1.0342 - top-5-accuracy: 0.9656 - val_accuracy: 0.5968 - val_loss: 1.1410 - val_top-5-accuracy: 0.9561\n",
      "Epoch 10/10\n",
      "\u001b[1m1563/1563\u001b[0m \u001b[32m━━━━━━━━━━━━━━━━━━━━\u001b[0m\u001b[37m\u001b[0m \u001b[1m57s\u001b[0m 37ms/step - accuracy: 0.7047 - loss: 0.8445 - top-5-accuracy: 0.9798 - val_accuracy: 0.6175 - val_loss: 1.0945 - val_top-5-accuracy: 0.9580\n"
     ]
    }
   ],
   "source": [
    "history = model.fit(\n",
    "    x=x_train,\n",
    "    y=y_train_categorical,\n",
    "    batch_size=batch_size,\n",
    "    epochs=num_epochs,\n",
    "    validation_data=(x_test, y_test_categorical)\n",
    ")"
   ]
  },
  {
   "cell_type": "code",
   "execution_count": null,
   "id": "2c6eb25a-bf12-482a-9512-afa10afbbc85",
   "metadata": {},
   "outputs": [],
   "source": []
  },
  {
   "cell_type": "code",
   "execution_count": 16,
   "id": "481bdd50-6465-448d-a404-86e006492ab5",
   "metadata": {},
   "outputs": [
    {
     "data": {
      "text/plain": [
       "{'accuracy': [0.3619399964809418,\n",
       "  0.47398000955581665,\n",
       "  0.4487200081348419,\n",
       "  0.4147399961948395,\n",
       "  0.4117799997329712,\n",
       "  0.46136000752449036,\n",
       "  0.5204399824142456,\n",
       "  0.5719199776649475,\n",
       "  0.6312199831008911,\n",
       "  0.6993600130081177],\n",
       " 'loss': [1.8947107791900635,\n",
       "  1.4732693433761597,\n",
       "  1.5491605997085571,\n",
       "  1.6448572874069214,\n",
       "  1.6453603506088257,\n",
       "  1.5054134130477905,\n",
       "  1.3497945070266724,\n",
       "  1.203768014907837,\n",
       "  1.045919418334961,\n",
       "  0.8579182028770447],\n",
       " 'top-5-accuracy': [0.844219982624054,\n",
       "  0.9125800132751465,\n",
       "  0.8995400071144104,\n",
       "  0.8834199905395508,\n",
       "  0.8847200274467468,\n",
       "  0.9095799922943115,\n",
       "  0.9313399791717529,\n",
       "  0.9506199955940247,\n",
       "  0.9653400182723999,\n",
       "  0.9793400168418884],\n",
       " 'val_accuracy': [0.4805999994277954,\n",
       "  0.4968000054359436,\n",
       "  0.49070000648498535,\n",
       "  0.4528000056743622,\n",
       "  0.45399999618530273,\n",
       "  0.510200023651123,\n",
       "  0.5404000282287598,\n",
       "  0.5842000246047974,\n",
       "  0.5968000292778015,\n",
       "  0.6175000071525574],\n",
       " 'val_loss': [1.4286177158355713,\n",
       "  1.3905454874038696,\n",
       "  1.436414122581482,\n",
       "  1.5317672491073608,\n",
       "  1.5401201248168945,\n",
       "  1.3695327043533325,\n",
       "  1.2932137250900269,\n",
       "  1.1794376373291016,\n",
       "  1.141021966934204,\n",
       "  1.0945103168487549],\n",
       " 'val_top-5-accuracy': [0.9226999878883362,\n",
       "  0.9248999953269958,\n",
       "  0.919700026512146,\n",
       "  0.9032999873161316,\n",
       "  0.9078999757766724,\n",
       "  0.9294000267982483,\n",
       "  0.9409000277519226,\n",
       "  0.9495000243186951,\n",
       "  0.9560999870300293,\n",
       "  0.9580000042915344]}"
      ]
     },
     "execution_count": 16,
     "metadata": {},
     "output_type": "execute_result"
    }
   ],
   "source": [
    "history.history"
   ]
  },
  {
   "cell_type": "code",
   "execution_count": 18,
   "id": "75ece8e3-c3da-4769-b804-d44bf294bfa8",
   "metadata": {},
   "outputs": [
    {
     "data": {
      "image/png": "[encoded data removed]",
      "text/plain": [
       "<Figure size 640x480 with 1 Axes>"
      ]
     },
     "metadata": {},
     "output_type": "display_data"
    }
   ],
   "source": [
    "import matplotlib.pyplot as plt\n",
    "\n",
    "# Save Train result\n",
    "fig = plt.gcf()\n",
    "plt.plot(history.history['loss'])\n",
    "plt.plot(history.history['val_loss'])\n",
    "plt.title('model loss')\n",
    "plt.xlabel('epoch')\n",
    "plt.ylabel('loss')\n",
    "plt.legend(['train', 'validation'], loc='upper left')\n",
    "plt.show()"
   ]
  },
  {
   "cell_type": "code",
   "execution_count": 19,
   "id": "c489c2f7-1420-4561-9477-871cf4d99496",
   "metadata": {},
   "outputs": [
    {
     "data": {
      "image/png": "[encoded data removed]",
      "text/plain": [
       "<Figure size 640x480 with 1 Axes>"
      ]
     },
     "metadata": {},
     "output_type": "display_data"
    }
   ],
   "source": [
    "# Save Train result\n",
    "fig = plt.gcf()\n",
    "plt.plot(history.history['accuracy'])\n",
    "plt.plot(history.history['val_accuracy'])\n",
    "plt.title('model loss')\n",
    "plt.xlabel('epoch')\n",
    "plt.ylabel('loss')\n",
    "plt.legend(['train', 'validation'], loc='upper left')\n",
    "plt.show()"
   ]
  },
  {
   "cell_type": "code",
   "execution_count": null,
   "id": "31153cf7-cf90-41b2-87cf-206b1fb1a91b",
   "metadata": {},
   "outputs": [],
   "source": []
  }
 ],
 "metadata": {
  "kernelspec": {
   "display_name": "Python 3 (ipykernel)",
   "language": "python",
   "name": "python3"
  },
  "language_info": {
   "codemirror_mode": {
    "name": "ipython",
    "version": 3
   },
   "file_extension": ".py",
   "mimetype": "text/x-python",
   "name": "python",
   "nbconvert_exporter": "python",
   "pygments_lexer": "ipython3",
   "version": "3.10.14"
  }
 },
 "nbformat": 4,
 "nbformat_minor": 5
}

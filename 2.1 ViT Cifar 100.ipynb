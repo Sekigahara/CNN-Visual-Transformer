{
 "cells": [
  {
   "cell_type": "code",
   "execution_count": 1,
   "id": "d7abfab5-0254-41b3-b7f6-ebdf4ab6c1c0",
   "metadata": {},
   "outputs": [
    {
     "name": "stderr",
     "output_type": "stream",
     "text": [
      "2024-06-14 13:52:47.738690: I tensorflow/core/util/port.cc:113] oneDNN custom operations are on. You may see slightly different numerical results due to floating-point round-off errors from different computation orders. To turn them off, set the environment variable `TF_ENABLE_ONEDNN_OPTS=0`.\n",
      "2024-06-14 13:52:47.766112: I tensorflow/core/platform/cpu_feature_guard.cc:210] This TensorFlow binary is optimized to use available CPU instructions in performance-critical operations.\n",
      "To enable the following instructions: AVX2 AVX512F AVX512_VNNI AVX512_BF16 FMA, in other operations, rebuild TensorFlow with the appropriate compiler flags.\n",
      "2024-06-14 13:52:48.303214: W tensorflow/compiler/tf2tensorrt/utils/py_utils.cc:38] TF-TRT Warning: Could not find TensorRT\n"
     ]
    },
    {
     "name": "stdout",
     "output_type": "stream",
     "text": [
      "2.16.1\n"
     ]
    },
    {
     "name": "stderr",
     "output_type": "stream",
     "text": [
      "2024-06-14 13:52:48.962590: I external/local_xla/xla/stream_executor/cuda/cuda_executor.cc:984] could not open file to read NUMA node: /sys/bus/pci/devices/0000:01:00.0/numa_node\n",
      "Your kernel may have been built without NUMA support.\n",
      "2024-06-14 13:52:48.975788: I external/local_xla/xla/stream_executor/cuda/cuda_executor.cc:984] could not open file to read NUMA node: /sys/bus/pci/devices/0000:01:00.0/numa_node\n",
      "Your kernel may have been built without NUMA support.\n",
      "2024-06-14 13:52:48.975829: I external/local_xla/xla/stream_executor/cuda/cuda_executor.cc:984] could not open file to read NUMA node: /sys/bus/pci/devices/0000:01:00.0/numa_node\n",
      "Your kernel may have been built without NUMA support.\n"
     ]
    },
    {
     "data": {
      "text/plain": [
       "[PhysicalDevice(name='/physical_device:GPU:0', device_type='GPU')]"
      ]
     },
     "execution_count": 1,
     "metadata": {},
     "output_type": "execute_result"
    }
   ],
   "source": [
    "import tensorflow as tf\n",
    "print(tf.__version__)\n",
    "\n",
    "tf.config.list_physical_devices('GPU')"
   ]
  },
  {
   "cell_type": "code",
   "execution_count": 2,
   "id": "32700357-4981-41bc-a57b-08d7ac74af5d",
   "metadata": {},
   "outputs": [],
   "source": [
    "# Load cifar dataset\n",
    "(x_train, y_train), (x_test, y_test) = tf.keras.datasets.cifar100.load_data()"
   ]
  },
  {
   "cell_type": "code",
   "execution_count": 3,
   "id": "13bfee30-751d-401c-92ef-c3fde5e51e6d",
   "metadata": {},
   "outputs": [],
   "source": [
    "# Normalization\n",
    "x_train, x_test = x_train / 255.0, x_test / 255.0"
   ]
  },
  {
   "cell_type": "code",
   "execution_count": 4,
   "id": "b8ad31da-4dce-444d-8265-257cdc523ba5",
   "metadata": {},
   "outputs": [],
   "source": [
    "# Convert the label into the categorical crossentropy\n",
    "\n",
    "y_train_categorical = tf.keras.utils.to_categorical(y_train, num_classes=100)\n",
    "y_test_categorical = tf.keras.utils.to_categorical(y_test, num_classes=100)"
   ]
  },
  {
   "cell_type": "code",
   "execution_count": 5,
   "id": "bea496c7-dcca-4ad6-b05e-5bffc000674d",
   "metadata": {},
   "outputs": [
    {
     "data": {
      "text/plain": [
       "(50000, 32, 32, 3)"
      ]
     },
     "execution_count": 5,
     "metadata": {},
     "output_type": "execute_result"
    }
   ],
   "source": [
    "x_train.shape"
   ]
  },
  {
   "cell_type": "code",
   "execution_count": 6,
   "id": "60632886-6dd3-4b59-b399-d0e2ef9a68e0",
   "metadata": {},
   "outputs": [],
   "source": [
    "num_classes = 100\n",
    "input_shape = (32, 32, 3)\n",
    "\n",
    "# ViT Base\n",
    "learning_rate = 0.001\n",
    "weight_decay = 0.0001\n",
    "batch_size = 32\n",
    "num_epochs = 10  # For real training, use num_epochs=100. 10 is a test value\n",
    "image_size = 72  # We'll resize input images to this size\n",
    "patch_size = 6  # Size of the patches to be extract from the input images\n",
    "num_patches = (image_size // patch_size) ** 2\n",
    "projection_dim = 64\n",
    "num_heads = 12\n",
    "transformer_units = [\n",
    "    projection_dim * 2,\n",
    "    projection_dim,\n",
    "]  # Size of the transformer layers\n",
    "transformer_layers = 12\n",
    "mlp_head_units = [\n",
    "    3072,\n",
    "]\n",
    "\n",
    "config_json = {   \n",
    "    \"learning_rate\" : learning_rate,\n",
    "    \"batch_size\" : batch_size,\n",
    "    \"num_epochs\" : num_epochs,\n",
    "    \"image_size\" : image_size,\n",
    "    \"patch_size\" : patch_size,\n",
    "    \"num_patches\" : num_patches,\n",
    "    \"projection_dim\" : projection_dim,\n",
    "    \"num_heads\" : num_heads,\n",
    "    \"final_dropout_layer\" : 0.5,\n",
    "    \"transformer_units\" : transformer_units,\n",
    "    \"transformer_layers\" : transformer_layers,\n",
    "    \"mlp_head_units\" : mlp_head_units\n",
    "}"
   ]
  },
  {
   "cell_type": "code",
   "execution_count": 7,
   "id": "9792c9b4-360e-436d-9b41-0b88ede9ba74",
   "metadata": {},
   "outputs": [],
   "source": [
    "from modules.vision_transformers.patches import Patches\n",
    "from modules.vision_transformers.patch_encoder import PatchEncoder, mlp"
   ]
  },
  {
   "cell_type": "code",
   "execution_count": 8,
   "id": "770db177-7ca9-437c-8f72-13a802aa9cea",
   "metadata": {},
   "outputs": [
    {
     "name": "stderr",
     "output_type": "stream",
     "text": [
      "2024-06-14 13:52:49.373111: I external/local_xla/xla/stream_executor/cuda/cuda_executor.cc:984] could not open file to read NUMA node: /sys/bus/pci/devices/0000:01:00.0/numa_node\n",
      "Your kernel may have been built without NUMA support.\n",
      "2024-06-14 13:52:49.373183: I external/local_xla/xla/stream_executor/cuda/cuda_executor.cc:984] could not open file to read NUMA node: /sys/bus/pci/devices/0000:01:00.0/numa_node\n",
      "Your kernel may have been built without NUMA support.\n",
      "2024-06-14 13:52:49.373209: I external/local_xla/xla/stream_executor/cuda/cuda_executor.cc:984] could not open file to read NUMA node: /sys/bus/pci/devices/0000:01:00.0/numa_node\n",
      "Your kernel may have been built without NUMA support.\n",
      "2024-06-14 13:52:49.446164: I external/local_xla/xla/stream_executor/cuda/cuda_executor.cc:984] could not open file to read NUMA node: /sys/bus/pci/devices/0000:01:00.0/numa_node\n",
      "Your kernel may have been built without NUMA support.\n",
      "2024-06-14 13:52:49.446218: I external/local_xla/xla/stream_executor/cuda/cuda_executor.cc:984] could not open file to read NUMA node: /sys/bus/pci/devices/0000:01:00.0/numa_node\n",
      "Your kernel may have been built without NUMA support.\n",
      "2024-06-14 13:52:49.446223: I tensorflow/core/common_runtime/gpu/gpu_device.cc:2019] Could not identify NUMA node of platform GPU id 0, defaulting to 0.  Your kernel may not have been built with NUMA support.\n",
      "2024-06-14 13:52:49.446251: I external/local_xla/xla/stream_executor/cuda/cuda_executor.cc:984] could not open file to read NUMA node: /sys/bus/pci/devices/0000:01:00.0/numa_node\n",
      "Your kernel may have been built without NUMA support.\n",
      "2024-06-14 13:52:49.446270: I tensorflow/core/common_runtime/gpu/gpu_device.cc:1928] Created device /job:localhost/replica:0/task:0/device:GPU:0 with 13450 MB memory:  -> device: 0, name: NVIDIA GeForce RTX 4060 Ti, pci bus id: 0000:01:00.0, compute capability: 8.9\n"
     ]
    }
   ],
   "source": [
    "# Data Augmentation for resize\n",
    "data_augmentation = tf.keras.Sequential([\n",
    "    tf.keras.layers.Normalization(),\n",
    "    tf.keras.layers.Resizing(image_size, image_size),\n",
    "    tf.keras.layers.RandomFlip(\"horizontal\"),\n",
    "    tf.keras.layers.RandomRotation(factor=0.02),\n",
    "    tf.keras.layers.RandomZoom(height_factor=0.2, width_factor=0.2),\n",
    "    #tf.keras.layers.RandomContrast(factor=0.1)\n",
    "])\n",
    "\n",
    "# Compute the average and variance of the training data for normalization purpose\n",
    "data_augmentation.layers[0].adapt(x_train)"
   ]
  },
  {
   "cell_type": "code",
   "execution_count": 9,
   "id": "52fd947f-71f5-4762-bdeb-b98e05244c89",
   "metadata": {},
   "outputs": [],
   "source": [
    "# Define the model\n",
    "def create_classifier():\n",
    "    inputs = tf.keras.Input(shape=input_shape)\n",
    "\n",
    "    # Apply augment resize\n",
    "    augmented = data_augmentation(inputs)\n",
    "    \n",
    "    # Create Patches\n",
    "    patches = Patches(patch_size)(augmented)\n",
    "\n",
    "    # Encode every patches position\n",
    "    encoded_patches = PatchEncoder(num_patches, projection_dim)(patches)\n",
    "\n",
    "    for _ in range(transformer_layers):\n",
    "        # Create multilayers about how many transformers layer needed\n",
    "        x1 = tf.keras.layers.LayerNormalization(epsilon=1e-6)(encoded_patches)\n",
    "    \n",
    "        # Create a multi-head attention layer\n",
    "        attention_output = tf.keras.layers.MultiHeadAttention(\n",
    "            num_heads=num_heads, key_dim=projection_dim, dropout=0.1\n",
    "        )(x1, x1)\n",
    "\n",
    "        # Skip connection 1\n",
    "        x2 = tf.keras.layers.Add()([attention_output, encoded_patches])\n",
    "\n",
    "        # layer normalization 2\n",
    "        x3 = tf.keras.layers.LayerNormalization(epsilon=1e-6)(x2)\n",
    "\n",
    "        # NLP\n",
    "        x3 = mlp(x3, hidden_units=transformer_units, dropout_rate=0.1)\n",
    "\n",
    "        # Skip Connection\n",
    "        encoded_patches = tf.keras.layers.Add()([x3, x2])\n",
    "\n",
    "    # Create a [batch_size, projection_dim] tensor.\n",
    "    representation = tf.keras.layers.LayerNormalization(epsilon=1e-6)(encoded_patches)\n",
    "    representation = tf.keras.layers.Flatten()(representation)\n",
    "    representation = tf.keras.layers.Dropout(0.5)(representation)\n",
    "    # Add MLP.\n",
    "    features = mlp(representation, hidden_units=mlp_head_units, dropout_rate=0.5)\n",
    "    # Classify outputs.\n",
    "    logits = tf.keras.layers.Dense(num_classes)(features)\n",
    "    # Create the Keras model.\n",
    "    model = tf.keras.Model(inputs=inputs, outputs=logits)\n",
    "    return model"
   ]
  },
  {
   "cell_type": "code",
   "execution_count": 10,
   "id": "b227c8d3-bfff-4cb6-9d79-7401f5902167",
   "metadata": {
    "scrolled": true
   },
   "outputs": [],
   "source": [
    "model = create_classifier()"
   ]
  },
  {
   "cell_type": "code",
   "execution_count": 11,
   "id": "1e8cf58b-c65b-4323-9cfe-f02a1d881346",
   "metadata": {},
   "outputs": [],
   "source": [
    "total_steps = len(x_train) * num_epochs\n",
    "decay_steps = total_steps * 0.4\n",
    "# Cosine Learning Rate Decay\n",
    "cosine_decay_scheduler = tf.keras.optimizers.schedules.CosineDecay(\n",
    "    initial_learning_rate=learning_rate,\n",
    "    decay_steps=decay_steps,\n",
    "    alpha=0.1,\n",
    "    warmup_steps=10000\n",
    ")"
   ]
  },
  {
   "cell_type": "code",
   "execution_count": 12,
   "id": "257de0c1-66f8-4333-b6cd-84aee4c6879b",
   "metadata": {},
   "outputs": [],
   "source": [
    "# Compile the model\n",
    "model.compile(\n",
    "    optimizer=tf.keras.optimizers.AdamW(learning_rate=cosine_decay_scheduler),\n",
    "    loss=tf.keras.losses.CategoricalCrossentropy(from_logits=True),\n",
    "    metrics=[\n",
    "        tf.keras.metrics.CategoricalAccuracy(name='accuracy'),\n",
    "        tf.keras.metrics.TopKCategoricalAccuracy(5, name='top-5-accuracy')\n",
    "    ]\n",
    ")"
   ]
  },
  {
   "cell_type": "code",
   "execution_count": 13,
   "id": "0e936761-77ff-499d-9d30-224d11972b1f",
   "metadata": {
    "scrolled": true
   },
   "outputs": [
    {
     "name": "stdout",
     "output_type": "stream",
     "text": [
      "Epoch 1/10\n"
     ]
    },
    {
     "name": "stderr",
     "output_type": "stream",
     "text": [
      "2024-06-14 13:53:23.185160: I external/local_xla/xla/stream_executor/cuda/cuda_dnn.cc:465] Loaded cuDNN version 8907\n"
     ]
    },
    {
     "name": "stdout",
     "output_type": "stream",
     "text": [
      "\u001b[1m1563/1563\u001b[0m \u001b[32m━━━━━━━━━━━━━━━━━━━━\u001b[0m\u001b[37m\u001b[0m \u001b[1m293s\u001b[0m 173ms/step - accuracy: 0.0265 - loss: 4.9239 - top-5-accuracy: 0.1071 - val_accuracy: 0.0607 - val_loss: 4.2148 - val_top-5-accuracy: 0.2317\n",
      "Epoch 2/10\n",
      "\u001b[1m1563/1563\u001b[0m \u001b[32m━━━━━━━━━━━━━━━━━━━━\u001b[0m\u001b[37m\u001b[0m \u001b[1m265s\u001b[0m 170ms/step - accuracy: 0.0453 - loss: 4.2588 - top-5-accuracy: 0.1763 - val_accuracy: 0.1374 - val_loss: 3.6702 - val_top-5-accuracy: 0.3698\n",
      "Epoch 3/10\n",
      "\u001b[1m1563/1563\u001b[0m \u001b[32m━━━━━━━━━━━━━━━━━━━━\u001b[0m\u001b[37m\u001b[0m \u001b[1m265s\u001b[0m 170ms/step - accuracy: 0.1470 - loss: 3.6275 - top-5-accuracy: 0.3823 - val_accuracy: 0.2433 - val_loss: 3.0676 - val_top-5-accuracy: 0.5382\n",
      "Epoch 4/10\n",
      "\u001b[1m1563/1563\u001b[0m \u001b[32m━━━━━━━━━━━━━━━━━━━━\u001b[0m\u001b[37m\u001b[0m \u001b[1m261s\u001b[0m 167ms/step - accuracy: 0.2263 - loss: 3.1539 - top-5-accuracy: 0.5198 - val_accuracy: 0.2941 - val_loss: 2.8539 - val_top-5-accuracy: 0.5917\n",
      "Epoch 5/10\n",
      "\u001b[1m1563/1563\u001b[0m \u001b[32m━━━━━━━━━━━━━━━━━━━━\u001b[0m\u001b[37m\u001b[0m \u001b[1m259s\u001b[0m 166ms/step - accuracy: 0.2795 - loss: 2.9151 - top-5-accuracy: 0.5771 - val_accuracy: 0.3239 - val_loss: 2.6744 - val_top-5-accuracy: 0.6286\n",
      "Epoch 6/10\n",
      "\u001b[1m1563/1563\u001b[0m \u001b[32m━━━━━━━━━━━━━━━━━━━━\u001b[0m\u001b[37m\u001b[0m \u001b[1m260s\u001b[0m 166ms/step - accuracy: 0.3120 - loss: 2.7329 - top-5-accuracy: 0.6184 - val_accuracy: 0.3564 - val_loss: 2.5503 - val_top-5-accuracy: 0.6545\n",
      "Epoch 7/10\n",
      "\u001b[1m1563/1563\u001b[0m \u001b[32m━━━━━━━━━━━━━━━━━━━━\u001b[0m\u001b[37m\u001b[0m \u001b[1m260s\u001b[0m 166ms/step - accuracy: 0.3423 - loss: 2.5913 - top-5-accuracy: 0.6527 - val_accuracy: 0.3645 - val_loss: 2.4771 - val_top-5-accuracy: 0.6685\n",
      "Epoch 8/10\n",
      "\u001b[1m1563/1563\u001b[0m \u001b[32m━━━━━━━━━━━━━━━━━━━━\u001b[0m\u001b[37m\u001b[0m \u001b[1m260s\u001b[0m 166ms/step - accuracy: 0.3642 - loss: 2.4703 - top-5-accuracy: 0.6791 - val_accuracy: 0.3802 - val_loss: 2.4377 - val_top-5-accuracy: 0.6804\n",
      "Epoch 9/10\n",
      "\u001b[1m1563/1563\u001b[0m \u001b[32m━━━━━━━━━━━━━━━━━━━━\u001b[0m\u001b[37m\u001b[0m \u001b[1m263s\u001b[0m 168ms/step - accuracy: 0.3888 - loss: 2.3569 - top-5-accuracy: 0.7029 - val_accuracy: 0.3968 - val_loss: 2.3283 - val_top-5-accuracy: 0.7058\n",
      "Epoch 10/10\n",
      "\u001b[1m1563/1563\u001b[0m \u001b[32m━━━━━━━━━━━━━━━━━━━━\u001b[0m\u001b[37m\u001b[0m \u001b[1m265s\u001b[0m 170ms/step - accuracy: 0.4110 - loss: 2.2364 - top-5-accuracy: 0.7305 - val_accuracy: 0.4077 - val_loss: 2.3078 - val_top-5-accuracy: 0.7020\n"
     ]
    }
   ],
   "source": [
    "history = model.fit(\n",
    "    x=x_train,\n",
    "    y=y_train_categorical,\n",
    "    batch_size=batch_size,\n",
    "    epochs=num_epochs,\n",
    "    validation_data=(x_test, y_test_categorical)\n",
    ")"
   ]
  },
  {
   "cell_type": "code",
   "execution_count": 14,
   "id": "2c6eb25a-bf12-482a-9512-afa10afbbc85",
   "metadata": {},
   "outputs": [
    {
     "name": "stdout",
     "output_type": "stream",
     "text": [
      "\u001b[1m313/313\u001b[0m \u001b[32m━━━━━━━━━━━━━━━━━━━━\u001b[0m\u001b[37m\u001b[0m \u001b[1m11s\u001b[0m 35ms/step - accuracy: 0.4091 - loss: 2.3127 - top-5-accuracy: 0.7092\n"
     ]
    }
   ],
   "source": [
    "evaluated = model.evaluate(x_test, y_test_categorical)\n",
    "final_acc, final_loss, final_top_3_acc = evaluated[0], evaluated[1], evaluated[2]"
   ]
  },
  {
   "cell_type": "code",
   "execution_count": 15,
   "id": "7be00ad4-a8a1-418c-9d7c-586f639da154",
   "metadata": {},
   "outputs": [],
   "source": [
    "save_name = 'model/model_base_vit_cifar100_val'"
   ]
  },
  {
   "cell_type": "code",
   "execution_count": 16,
   "id": "481bdd50-6465-448d-a404-86e006492ab5",
   "metadata": {
    "scrolled": true
   },
   "outputs": [
    {
     "data": {
      "text/plain": [
       "{'accuracy': [0.03180000185966492,\n",
       "  0.05708000063896179,\n",
       "  0.1709199994802475,\n",
       "  0.23654000461101532,\n",
       "  0.28213998675346375,\n",
       "  0.3124600052833557,\n",
       "  0.3425599932670593,\n",
       "  0.36403998732566833,\n",
       "  0.38763999938964844,\n",
       "  0.4059000015258789],\n",
       " 'loss': [4.49999475479126,\n",
       "  4.174919128417969,\n",
       "  3.4912071228027344,\n",
       "  3.110159397125244,\n",
       "  2.892437219619751,\n",
       "  2.728440284729004,\n",
       "  2.5900590419769287,\n",
       "  2.4724860191345215,\n",
       "  2.369495153427124,\n",
       "  2.267557144165039],\n",
       " 'top-5-accuracy': [0.1301400065422058,\n",
       "  0.20679999887943268,\n",
       "  0.425680011510849,\n",
       "  0.5320000052452087,\n",
       "  0.5831999778747559,\n",
       "  0.6209400296211243,\n",
       "  0.6518200039863586,\n",
       "  0.6790599822998047,\n",
       "  0.7005000114440918,\n",
       "  0.7216200232505798],\n",
       " 'val_accuracy': [0.06069999933242798,\n",
       "  0.13740000128746033,\n",
       "  0.24330000579357147,\n",
       "  0.29409998655319214,\n",
       "  0.3239000141620636,\n",
       "  0.3564000129699707,\n",
       "  0.3644999861717224,\n",
       "  0.38019999861717224,\n",
       "  0.3968000113964081,\n",
       "  0.4077000021934509],\n",
       " 'val_loss': [4.214814186096191,\n",
       "  3.670182466506958,\n",
       "  3.067638874053955,\n",
       "  2.8539154529571533,\n",
       "  2.674437999725342,\n",
       "  2.5502703189849854,\n",
       "  2.4770896434783936,\n",
       "  2.437671422958374,\n",
       "  2.328320026397705,\n",
       "  2.307810068130493],\n",
       " 'val_top-5-accuracy': [0.23170000314712524,\n",
       "  0.36980000138282776,\n",
       "  0.5382000207901001,\n",
       "  0.59170001745224,\n",
       "  0.628600001335144,\n",
       "  0.6545000076293945,\n",
       "  0.6685000061988831,\n",
       "  0.680400013923645,\n",
       "  0.7057999968528748,\n",
       "  0.7020000219345093]}"
      ]
     },
     "execution_count": 16,
     "metadata": {},
     "output_type": "execute_result"
    }
   ],
   "source": [
    "history.history"
   ]
  },
  {
   "cell_type": "code",
   "execution_count": 17,
   "id": "75ece8e3-c3da-4769-b804-d44bf294bfa8",
   "metadata": {},
   "outputs": [
    {
     "data": {
      "image/png": "[encoded data removed]",
      "text/plain": [
       "<Figure size 640x480 with 1 Axes>"
      ]
     },
     "metadata": {},
     "output_type": "display_data"
    }
   ],
   "source": [
    "import matplotlib.pyplot as plt\n",
    "\n",
    "# Save Train result\n",
    "fig = plt.gcf()\n",
    "plt.plot(history.history['loss'])\n",
    "plt.plot(history.history['val_loss'])\n",
    "plt.title('model loss')\n",
    "plt.xlabel('epoch')\n",
    "plt.ylabel('loss')\n",
    "plt.legend(['train', 'validation'], loc='upper left')\n",
    "plt.show()"
   ]
  },
  {
   "cell_type": "code",
   "execution_count": 18,
   "id": "206aea8f-a313-414a-a2de-abf5d08dac4a",
   "metadata": {},
   "outputs": [],
   "source": [
    "fig.savefig(save_name + \"_loss.jpg\")"
   ]
  },
  {
   "cell_type": "code",
   "execution_count": 19,
   "id": "c489c2f7-1420-4561-9477-871cf4d99496",
   "metadata": {},
   "outputs": [
    {
     "data": {
      "image/png": "[encoded data removed]",
      "text/plain": [
       "<Figure size 640x480 with 1 Axes>"
      ]
     },
     "metadata": {},
     "output_type": "display_data"
    }
   ],
   "source": [
    "# Save Train result\n",
    "fig = plt.gcf()\n",
    "plt.plot(history.history['accuracy'])\n",
    "plt.plot(history.history['val_accuracy'])\n",
    "plt.title('model loss')\n",
    "plt.xlabel('epoch')\n",
    "plt.ylabel('loss')\n",
    "plt.legend(['train', 'validation'], loc='upper left')\n",
    "plt.show()"
   ]
  },
  {
   "cell_type": "code",
   "execution_count": 20,
   "id": "31153cf7-cf90-41b2-87cf-206b1fb1a91b",
   "metadata": {},
   "outputs": [],
   "source": [
    "fig.savefig(save_name + \"_accuracy.jpg\")"
   ]
  },
  {
   "cell_type": "code",
   "execution_count": 21,
   "id": "3889d335-3739-454a-89c8-92b148cc32a6",
   "metadata": {},
   "outputs": [],
   "source": [
    "model.save('{}.keras'.format(save_name))"
   ]
  },
  {
   "cell_type": "code",
   "execution_count": 22,
   "id": "4182051f-3e9b-49b9-b4d1-48a844a84246",
   "metadata": {},
   "outputs": [],
   "source": [
    "import json\n",
    "\n",
    "config_json['final_accuracy'] = final_acc,\n",
    "config_json['final_loss'] = final_loss\n",
    "config_json['final_top_3_acc'] = final_top_3_acc\n",
    "with open('{}_config.json'.format(save_name), 'w') as f:\n",
    "    json.dump(config_json, f, indent=4)"
   ]
  },
  {
   "cell_type": "code",
   "execution_count": null,
   "id": "c9601823-861e-43db-9dca-360937b47d2f",
   "metadata": {},
   "outputs": [],
   "source": []
  }
 ],
 "metadata": {
  "kernelspec": {
   "display_name": "Python 3 (ipykernel)",
   "language": "python",
   "name": "python3"
  },
  "language_info": {
   "codemirror_mode": {
    "name": "ipython",
    "version": 3
   },
   "file_extension": ".py",
   "mimetype": "text/x-python",
   "name": "python",
   "nbconvert_exporter": "python",
   "pygments_lexer": "ipython3",
   "version": "3.10.14"
  }
 },
 "nbformat": 4,
 "nbformat_minor": 5
}
